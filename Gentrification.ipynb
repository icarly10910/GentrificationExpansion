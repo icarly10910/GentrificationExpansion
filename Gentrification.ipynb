{
 "cells": [
  {
   "cell_type": "code",
   "execution_count": 1,
   "metadata": {},
   "outputs": [
    {
     "name": "stdout",
     "output_type": "stream",
     "text": [
      "Requirement already satisfied: mesa in /anaconda3/lib/python3.7/site-packages (0.8.5)\n",
      "Requirement already satisfied: cookiecutter in /anaconda3/lib/python3.7/site-packages (from mesa) (1.6.0)\n",
      "Requirement already satisfied: click in /anaconda3/lib/python3.7/site-packages (from mesa) (7.0)\n",
      "Requirement already satisfied: jupyter in /anaconda3/lib/python3.7/site-packages (from mesa) (1.0.0)\n",
      "Requirement already satisfied: numpy in /anaconda3/lib/python3.7/site-packages (from mesa) (1.16.2)\n",
      "Requirement already satisfied: tornado<5.0.0,>=4.2 in /anaconda3/lib/python3.7/site-packages (from mesa) (4.5.3)\n",
      "Requirement already satisfied: pandas in /anaconda3/lib/python3.7/site-packages (from mesa) (0.24.2)\n",
      "Requirement already satisfied: tqdm in /anaconda3/lib/python3.7/site-packages (from mesa) (4.31.1)\n",
      "Requirement already satisfied: networkx in /anaconda3/lib/python3.7/site-packages (from mesa) (2.2)\n",
      "Requirement already satisfied: binaryornot>=0.2.0 in /anaconda3/lib/python3.7/site-packages (from cookiecutter->mesa) (0.4.4)\n",
      "Requirement already satisfied: whichcraft>=0.4.0 in /anaconda3/lib/python3.7/site-packages (from cookiecutter->mesa) (0.5.2)\n",
      "Requirement already satisfied: future>=0.15.2 in /anaconda3/lib/python3.7/site-packages (from cookiecutter->mesa) (0.17.1)\n",
      "Requirement already satisfied: jinja2>=2.7 in /anaconda3/lib/python3.7/site-packages (from cookiecutter->mesa) (2.10)\n",
      "Requirement already satisfied: poyo>=0.1.0 in /anaconda3/lib/python3.7/site-packages (from cookiecutter->mesa) (0.4.2)\n",
      "Requirement already satisfied: jinja2-time>=0.1.0 in /anaconda3/lib/python3.7/site-packages (from cookiecutter->mesa) (0.2.0)\n",
      "Requirement already satisfied: requests>=2.18.0 in /anaconda3/lib/python3.7/site-packages (from cookiecutter->mesa) (2.21.0)\n",
      "Requirement already satisfied: notebook in /anaconda3/lib/python3.7/site-packages (from jupyter->mesa) (5.7.8)\n",
      "Requirement already satisfied: nbconvert in /anaconda3/lib/python3.7/site-packages (from jupyter->mesa) (5.4.1)\n",
      "Requirement already satisfied: ipykernel in /anaconda3/lib/python3.7/site-packages (from jupyter->mesa) (5.1.0)\n",
      "Requirement already satisfied: jupyter-console in /anaconda3/lib/python3.7/site-packages (from jupyter->mesa) (6.0.0)\n",
      "Requirement already satisfied: qtconsole in /anaconda3/lib/python3.7/site-packages (from jupyter->mesa) (4.4.3)\n",
      "Requirement already satisfied: ipywidgets in /anaconda3/lib/python3.7/site-packages (from jupyter->mesa) (7.4.2)\n",
      "Requirement already satisfied: python-dateutil>=2.5.0 in /anaconda3/lib/python3.7/site-packages (from pandas->mesa) (2.8.0)\n",
      "Requirement already satisfied: pytz>=2011k in /anaconda3/lib/python3.7/site-packages (from pandas->mesa) (2018.9)\n",
      "Requirement already satisfied: decorator>=4.3.0 in /anaconda3/lib/python3.7/site-packages (from networkx->mesa) (4.4.0)\n",
      "Requirement already satisfied: chardet>=3.0.2 in /anaconda3/lib/python3.7/site-packages (from binaryornot>=0.2.0->cookiecutter->mesa) (3.0.4)\n",
      "Requirement already satisfied: MarkupSafe>=0.23 in /anaconda3/lib/python3.7/site-packages (from jinja2>=2.7->cookiecutter->mesa) (1.1.1)\n",
      "Requirement already satisfied: arrow in /anaconda3/lib/python3.7/site-packages (from jinja2-time>=0.1.0->cookiecutter->mesa) (0.13.1)\n",
      "Requirement already satisfied: idna<2.9,>=2.5 in /anaconda3/lib/python3.7/site-packages (from requests>=2.18.0->cookiecutter->mesa) (2.8)\n",
      "Requirement already satisfied: certifi>=2017.4.17 in /anaconda3/lib/python3.7/site-packages (from requests>=2.18.0->cookiecutter->mesa) (2019.3.9)\n",
      "Requirement already satisfied: urllib3<1.25,>=1.21.1 in /anaconda3/lib/python3.7/site-packages (from requests>=2.18.0->cookiecutter->mesa) (1.24.1)\n",
      "Requirement already satisfied: jupyter-client>=5.2.0 in /anaconda3/lib/python3.7/site-packages (from notebook->jupyter->mesa) (5.2.4)\n",
      "Requirement already satisfied: prometheus-client in /anaconda3/lib/python3.7/site-packages (from notebook->jupyter->mesa) (0.6.0)\n",
      "Requirement already satisfied: Send2Trash in /anaconda3/lib/python3.7/site-packages (from notebook->jupyter->mesa) (1.5.0)\n",
      "Requirement already satisfied: jupyter-core>=4.4.0 in /anaconda3/lib/python3.7/site-packages (from notebook->jupyter->mesa) (4.4.0)\n",
      "Requirement already satisfied: terminado>=0.8.1 in /anaconda3/lib/python3.7/site-packages (from notebook->jupyter->mesa) (0.8.1)\n",
      "Requirement already satisfied: pyzmq>=17 in /anaconda3/lib/python3.7/site-packages (from notebook->jupyter->mesa) (18.0.0)\n",
      "Requirement already satisfied: traitlets>=4.2.1 in /anaconda3/lib/python3.7/site-packages (from notebook->jupyter->mesa) (4.3.2)\n",
      "Requirement already satisfied: ipython-genutils in /anaconda3/lib/python3.7/site-packages (from notebook->jupyter->mesa) (0.2.0)\n",
      "Requirement already satisfied: nbformat in /anaconda3/lib/python3.7/site-packages (from notebook->jupyter->mesa) (4.4.0)\n",
      "Requirement already satisfied: mistune>=0.8.1 in /anaconda3/lib/python3.7/site-packages (from nbconvert->jupyter->mesa) (0.8.4)\n",
      "Requirement already satisfied: pygments in /anaconda3/lib/python3.7/site-packages (from nbconvert->jupyter->mesa) (2.3.1)\n",
      "Requirement already satisfied: entrypoints>=0.2.2 in /anaconda3/lib/python3.7/site-packages (from nbconvert->jupyter->mesa) (0.3)\n",
      "Requirement already satisfied: bleach in /anaconda3/lib/python3.7/site-packages (from nbconvert->jupyter->mesa) (3.1.0)\n",
      "Requirement already satisfied: pandocfilters>=1.4.1 in /anaconda3/lib/python3.7/site-packages (from nbconvert->jupyter->mesa) (1.4.2)\n",
      "Requirement already satisfied: testpath in /anaconda3/lib/python3.7/site-packages (from nbconvert->jupyter->mesa) (0.4.2)\n",
      "Requirement already satisfied: defusedxml in /anaconda3/lib/python3.7/site-packages (from nbconvert->jupyter->mesa) (0.5.0)\n",
      "Requirement already satisfied: ipython>=5.0.0 in /anaconda3/lib/python3.7/site-packages (from ipykernel->jupyter->mesa) (7.4.0)\n",
      "Requirement already satisfied: prompt_toolkit<2.1.0,>=2.0.0 in /anaconda3/lib/python3.7/site-packages (from jupyter-console->jupyter->mesa) (2.0.9)\n",
      "Requirement already satisfied: widgetsnbextension~=3.4.0 in /anaconda3/lib/python3.7/site-packages (from ipywidgets->jupyter->mesa) (3.4.2)\n",
      "Requirement already satisfied: six>=1.5 in /anaconda3/lib/python3.7/site-packages (from python-dateutil>=2.5.0->pandas->mesa) (1.12.0)\n",
      "Requirement already satisfied: jsonschema!=2.5.0,>=2.4 in /anaconda3/lib/python3.7/site-packages (from nbformat->notebook->jupyter->mesa) (3.0.1)\n",
      "Requirement already satisfied: webencodings in /anaconda3/lib/python3.7/site-packages (from bleach->nbconvert->jupyter->mesa) (0.5.1)\n",
      "Requirement already satisfied: jedi>=0.10 in /anaconda3/lib/python3.7/site-packages (from ipython>=5.0.0->ipykernel->jupyter->mesa) (0.13.3)\n",
      "Requirement already satisfied: pickleshare in /anaconda3/lib/python3.7/site-packages (from ipython>=5.0.0->ipykernel->jupyter->mesa) (0.7.5)\n",
      "Requirement already satisfied: backcall in /anaconda3/lib/python3.7/site-packages (from ipython>=5.0.0->ipykernel->jupyter->mesa) (0.1.0)\n",
      "Requirement already satisfied: pexpect; sys_platform != \"win32\" in /anaconda3/lib/python3.7/site-packages (from ipython>=5.0.0->ipykernel->jupyter->mesa) (4.6.0)\n",
      "Requirement already satisfied: setuptools>=18.5 in /anaconda3/lib/python3.7/site-packages (from ipython>=5.0.0->ipykernel->jupyter->mesa) (40.8.0)\n",
      "Requirement already satisfied: appnope; sys_platform == \"darwin\" in /anaconda3/lib/python3.7/site-packages (from ipython>=5.0.0->ipykernel->jupyter->mesa) (0.1.0)\n",
      "Requirement already satisfied: wcwidth in /anaconda3/lib/python3.7/site-packages (from prompt_toolkit<2.1.0,>=2.0.0->jupyter-console->jupyter->mesa) (0.1.7)\n",
      "Requirement already satisfied: attrs>=17.4.0 in /anaconda3/lib/python3.7/site-packages (from jsonschema!=2.5.0,>=2.4->nbformat->notebook->jupyter->mesa) (19.1.0)\n",
      "Requirement already satisfied: pyrsistent>=0.14.0 in /anaconda3/lib/python3.7/site-packages (from jsonschema!=2.5.0,>=2.4->nbformat->notebook->jupyter->mesa) (0.14.11)\n",
      "Requirement already satisfied: parso>=0.3.0 in /anaconda3/lib/python3.7/site-packages (from jedi>=0.10->ipython>=5.0.0->ipykernel->jupyter->mesa) (0.3.4)\n",
      "Requirement already satisfied: ptyprocess>=0.5 in /anaconda3/lib/python3.7/site-packages (from pexpect; sys_platform != \"win32\"->ipython>=5.0.0->ipykernel->jupyter->mesa) (0.6.0)\n"
     ]
    },
    {
     "name": "stdout",
     "output_type": "stream",
     "text": [
      "Note: you may need to restart the kernel to use updated packages.\n"
     ]
    }
   ],
   "source": [
    "pip install mesa"
   ]
  },
  {
   "cell_type": "markdown",
   "metadata": {},
   "source": [
    "## The initial model\n",
    "Implementing the initial model without contagion. \n",
    "The neighbourhood is a grid of size $N^2 = C + R + S$. There are $C$ commericial properties, $R$ residential properties, and $S$ spaces designated for non-paying visitors to mill-around. These values are constant for all time, meaning that no residential properties can be turned into commercial properties, or vice versa. \n",
    "\n"
   ]
  },
  {
   "cell_type": "markdown",
   "metadata": {},
   "source": [
    "## Importing all of the libraries"
   ]
  },
  {
   "cell_type": "code",
   "execution_count": 2,
   "metadata": {},
   "outputs": [],
   "source": [
    "from mesa import Agent, Model\n",
    "from mesa.time import RandomActivation\n",
    "import random\n",
    "import numpy as np\n",
    "import matplotlib.pyplot as plt\n",
    "from mesa.space import MultiGrid, SingleGrid\n",
    "from mesa.datacollection import DataCollector\n",
    "from mesa.batchrunner import BatchRunner\n",
    "from mesa.visualization.modules import CanvasGrid\n",
    "from mesa.visualization.ModularVisualization import ModularServer\n",
    "from mesa.visualization.modules import ChartModule\n",
    "from mesa.visualization.UserParam import UserSettableParameter"
   ]
  },
  {
   "cell_type": "markdown",
   "metadata": {},
   "source": [
    "make boolean decision with probability $p$"
   ]
  },
  {
   "cell_type": "code",
   "execution_count": 3,
   "metadata": {},
   "outputs": [],
   "source": [
    "import random\n",
    "\n",
    "def decision(probability):\n",
    "    return random.random() < probability\n"
   ]
  },
  {
   "cell_type": "markdown",
   "metadata": {},
   "source": [
    "## Example of popularity function \n",
    "probability/popularity of business as dependent on number of visitors\n",
    "$$Popularity(N)=1-e^{-\\lambda N}$$\n"
   ]
  },
  {
   "cell_type": "code",
   "execution_count": 4,
   "metadata": {},
   "outputs": [],
   "source": [
    "def pop(n):\n",
    "    l = 0.2\n",
    "    p = 1 - np.exp(-l * n)\n",
    "    if p >0.1:\n",
    "        return p\n",
    "    else:\n",
    "        return 0.1"
   ]
  },
  {
   "cell_type": "markdown",
   "metadata": {},
   "source": [
    "## Example of economic status function\n",
    "\n",
    "The economic status of the business as a step function dependent on the popularity of the business. \n"
   ]
  },
  {
   "cell_type": "code",
   "execution_count": 5,
   "metadata": {},
   "outputs": [],
   "source": [
    "def e_stat(p):\n",
    "    if p<=0.3:\n",
    "        return 0\n",
    "    if p>0.3 and p <= 0.6:\n",
    "        return 1\n",
    "    if p>0.6:\n",
    "        return 2"
   ]
  },
  {
   "cell_type": "code",
   "execution_count": 6,
   "metadata": {},
   "outputs": [
    {
     "data": {
      "image/png": "[encoded data removed]",
      "text/plain": [
       "<Figure size 432x288 with 1 Axes>"
      ]
     },
     "metadata": {
      "needs_background": "light"
     },
     "output_type": "display_data"
    },
    {
     "data": {
      "image/png": "[encoded data removed]",
      "text/plain": [
       "<Figure size 432x288 with 1 Axes>"
      ]
     },
     "metadata": {
      "needs_background": "light"
     },
     "output_type": "display_data"
    },
    {
     "data": {
      "image/png": "[encoded data removed]",
      "text/plain": [
       "<Figure size 432x288 with 1 Axes>"
      ]
     },
     "metadata": {
      "needs_background": "light"
     },
     "output_type": "display_data"
    }
   ],
   "source": [
    "n = [0, 1, 2, 3, 4, 5, 6, 7, 8, 9]\n",
    "f = np.zeros(len(n))\n",
    "e = np.zeros(len(n))\n",
    "for i, N in enumerate(n):\n",
    "    f[i] = pop(N)\n",
    "for i, p in enumerate(f):\n",
    "    e[i] = e_stat(p)\n",
    "plt.plot(n, f, lw='3')\n",
    "plt.xlabel('Number of Visitors', fontsize='12')\n",
    "plt.ylabel('Popularity', fontsize='12')\n",
    "plt.title('Popularity by Number of Visitors', fontsize='14')\n",
    "plt.show()\n",
    "plt.plot(f, e, lw='3')\n",
    "plt.xlabel('Popularity', fontsize='12')\n",
    "plt.ylabel('Economic Status', fontsize='12')\n",
    "plt.title('Economic Status by Popularity', fontsize='14')\n",
    "plt.show()\n",
    "plt.plot(n, e, lw='3')\n",
    "plt.xlabel('Number of Visitors', fontsize='12')\n",
    "plt.ylabel('Economic Status', fontsize='12')\n",
    "plt.title('Economic Status by Visitors', fontsize='14')\n",
    "plt.show()"
   ]
  },
  {
   "cell_type": "markdown",
   "metadata": {},
   "source": [
    "## Creating the agents\n",
    "Each of our agents has the following properties:\n",
    "\n",
    "in_neighbourhood := True or False\n",
    "\n",
    "econ_status := Low, Medium, or High, represented as 0, 1, 2, respectively\n",
    "\n",
    "resident_status := Resident or Visitor, represented as 0, 1, respectively\n",
    "\n",
    "prob_enter := Probability of agent entering the neighbourhood, real value in (0,1)\n",
    "\n",
    "\n",
    "Each of our agents can make the following decisions:\n",
    "\n",
    "buy_or_sell := the decision to buy or sell your residence. This is a function of in_neighbourhood, resident_status, econ_status, and the availability of accessible properties in the neighbourhood. \n",
    "\n",
    "enter_or_leave := the decision to enter or leave the neighbourhood. This is a function of in_neighbourhood, resident_status, and prob_enter\n",
    "\n",
    "visit_business := the decision to visit a business. This is a function of in_neighbourhood, econ_status, and the attributes of the businesses. "
   ]
  },
  {
   "cell_type": "code",
   "execution_count": 7,
   "metadata": {},
   "outputs": [],
   "source": [
    "class Person(Agent):\n",
    "    \"\"\" An agent with fixed initial wealth.\"\"\"\n",
    "    def __init__(self, unique_id, model, IN=True):\n",
    "        super().__init__(unique_id, model)\n",
    "        self.yelped = False\n",
    "        if IN:\n",
    "            self.econ_status = np.random.choice([0,1,2], p = [0.6, 0.3, 0.1])#RANDOM INITIALIZATION OF ECONOMIC STATUS. CAN CHANGE.\n",
    "        else:\n",
    "            self.econ_status = np.random.choice([0,1,2], p = [0.2, 0.3, 0.5])#RANDOM INITIALIZATION OF ECONOMIC STATUS. CAN CHANGE.\n",
    "        self.prob_enter = np.random.normal(0.3,0.15)\n",
    "        \n",
    "\n",
    "    def buy_or_sell(self):\n",
    "        if self.in_neighbourhood:\n",
    "            if self.resident_status:\n",
    "                residence = self.model.grid.get_cell_list_contents([self.Home])\n",
    "                home = [obj for obj in residence if isinstance(obj, Residential)]\n",
    "                home = home[0]\n",
    "                med_all = med_property_value(self.model)\n",
    "                good_offer = np.random.choice([0,1], p=[0.1, 0.9])\n",
    "                if self.econ_status < home.property_value:\n",
    "                    y = random.randrange(self.model.grid.height)\n",
    "                    if y != self.model.grid.height:\n",
    "                        self.model.grid.move_agent(self, (y, self.model.grid.width-1))\n",
    "                    else:\n",
    "                        self.model.grid.move_agent(self, (y-1, self.model.grid.width-1))\n",
    "                    self.prob_enter = self.prob_enter *0.5\n",
    "                    self.resident_status = False\n",
    "                    self.in_neighbourhood = False\n",
    "                    home.vacancy = True\n",
    "                elif good_offer == 0 and self.econ_status < med_all:\n",
    "                    y = random.randrange(self.model.grid.height)\n",
    "                    if y != self.model.grid.height:\n",
    "                        self.model.grid.move_agent(self, (y, self.model.grid.width-1))\n",
    "                    else:\n",
    "                        self.model.grid.move_agent(self, (y-1, self.model.grid.width-1))\n",
    "                    self.prob_enter = self.prob_enter *0.5\n",
    "                    self.resident_status = False\n",
    "                    self.in_neighbourhood = False\n",
    "                    home.vacancy = True\n",
    "                #aa = home.vacancies\n",
    "                #if home.vacancy:\n",
    "                #    home.vacancies = np.hstack((aa, np.asarray(0)))\n",
    "                #else:\n",
    "                #    home.vacancies = np.hstack((aa, np.asarray(1)))\n",
    "                    \n",
    "            if not self.resident_status:\n",
    "                residences = [res for res in self.model.schedule.agents if isinstance(res, Residential)]\n",
    "                houses_for_sale = [obj for obj in residences if obj.vacancy]\n",
    "                affordable_homes = [obj for obj in houses_for_sale if (obj.property_value <= self.econ_status)]\n",
    "                if len(affordable_homes) != 0:\n",
    "                    new_house = np.random.choice(affordable_homes) #pick a random affordable home to buy\n",
    "                    self.model.grid.move_agent(self, new_house.pos)#move in!\n",
    "                    self.Home = new_house.pos #update the location of your home.\n",
    "                    self.resident_status = True #update your resident status\n",
    "                    new_house.vacancy = False\n",
    "                    self.in_neighbourhood = True\n",
    "                    #print('me:', self.econ_status, 'newhouse before:', new_house.property_value)\n",
    "                    new_house.property_value = self.econ_status #possibly increase property value of your home!\n",
    "                    #print('newhouse after:', new_house.property_value)\n",
    "                else:\n",
    "                    self.prob_enter = self.prob_enter * 0.8\n",
    "                    \n",
    "    def enter_or_leave(self):\n",
    "        #print('enter or leave')\n",
    "        if self.in_neighbourhood and not self.resident_status: #if in neighbourhood but not resident\n",
    "            d = decision(self.prob_enter) #Will return False with probability 1-prob_enter\n",
    "            if d == False:\n",
    "                y = random.randrange(self.model.grid.height)\n",
    "                if y != self.model.grid.height:\n",
    "                    self.model.grid.move_agent(self, (y, self.model.grid.width-1))\n",
    "                else:\n",
    "                    self.model.grid.move_agent(self, (y-1, self.model.grid.width-1))\n",
    "                    \n",
    "        if not self.in_neighbourhood: \n",
    "            self.in_neighbourhood = decision(self.prob_enter)\n",
    "            if self.in_neighbourhood:\n",
    "                streets = [s for s in self.model.schedule.agents if isinstance(s, Street)]\n",
    "                st = np.random.choice(streets)\n",
    "                self.model.grid.move_agent(self, st.pos)\n",
    "    \n",
    "    def shop(self):\n",
    "        #print('shop')\n",
    "        if self.in_neighbourhood:\n",
    "            businesses = [b for b in self.model.schedule.agents if isinstance(b, Commercial)]\n",
    "            popularity = [obj.popularity for obj in businesses]\n",
    "            sums = sum(popularity)\n",
    "            popularity = np.asarray(popularity)/sums\n",
    "            store = np.random.choice(businesses, p=popularity)\n",
    "            if store.econ_status <= self.econ_status:\n",
    "                self.model.grid.move_agent(self, store.pos)\n",
    "                self.prob_enter = self.prob_enter * 1.2 #increase probability of entering\n",
    "                if store.popularity > 0.7:\n",
    "                    sh = np.random.choice([0,1], p=[0.8, 0.2])\n",
    "                    if sh == 0 :\n",
    "                        self.share(store)\n",
    "                        self.yelped = True\n",
    "                \n",
    "            else:\n",
    "                self.prob_enter = self.prob_enter * 0.8 #decrease probability of entering\n",
    "    \n",
    "    def go_home(self):\n",
    "        #print('shop')\n",
    "        if self.resident_status:\n",
    "            self.model.grid.move_agent(self, self.Home)\n",
    "            \n",
    "    def share(self, store):\n",
    "        print('share')\n",
    "        yelp = 1.3 * store.popularity\n",
    "        store.popularity = yelp\n",
    "        store.yelped = True\n",
    "        non_residents = [b for b in self.model.schedule.agents if isinstance(b, Person) and not b.in_neighbourhood]\n",
    "        for b in non_residents:\n",
    "            pyelp = 1.3 * b.prob_enter\n",
    "            b.prob_enter = pyelp\n",
    "            \n",
    "                \n",
    "    def step(self):\n",
    "        #print('here in person')\n",
    "        action = np.random.choice([0,1,2,3], p=[0.15,0.3,0.4,0.15])\n",
    "        if action == 0:\n",
    "            self.buy_or_sell()\n",
    "        if action == 1:\n",
    "            self.enter_or_leave()\n",
    "        if action == 2:\n",
    "            self.shop()\n",
    "        if action == 3:\n",
    "            self.go_home()"
   ]
  },
  {
   "cell_type": "markdown",
   "metadata": {},
   "source": [
    "## The Commercial Agent\n",
    "each business has the following properties:\n",
    "\n",
    "number_of_visitors := the number of visitors at a given time step\n",
    "\n",
    "popularity := value in $(0,1)$ that reflects the popularity of the business. Also used as a probability of the business being visited. This is a function of number_of_visitors\n",
    "\n",
    "econ_status := Low, Medium, or High, represented as 0, 1, 2, respectively. This increases with popularity. For $popularity \\leq 0.33$, the econ_status is low. For $0.33<popularity \\leq0.66$, econ_status is medium. For $0.33 < popularity \\leq 0.99$, econ_status is high.\n",
    "\n",
    "Each of our businesses can do the following things:\n",
    "\n",
    "count_visits:=count the number of agents in the business"
   ]
  },
  {
   "cell_type": "code",
   "execution_count": 8,
   "metadata": {},
   "outputs": [],
   "source": [
    "class Commercial(Agent):\n",
    "    \"\"\" An agent with fixed initial wealth.\"\"\"\n",
    "    def __init__(self, unique_id, model):\n",
    "        super().__init__(unique_id, model)\n",
    "        self.econ_status = np.random.choice([0,1,2], p = [0.7, 0.2, 0.1]) \n",
    "        if self.econ_status == 0:\n",
    "            self.popularity = 0.2\n",
    "            self.number_of_visitors = 1\n",
    "        if self.econ_status == 1:\n",
    "            self.popularity = 0.5\n",
    "            self.number_of_visitors = 4\n",
    "        if self.econ_status == 2:\n",
    "            self.popularity = 0.8\n",
    "            self.number_of_visitors = 8\n",
    "        self.avgs = [self.number_of_visitors]\n",
    "        self.av_ppl = np.average(np.asarray(self.avgs))\n",
    "        \n",
    "\n",
    "    def count_visits(self):\n",
    "        same_space = self.model.grid.get_cell_list_contents([self.pos])\n",
    "        visitors = [obj for obj in same_space if isinstance(obj, Person)]\n",
    "        self.number_of_visitors = len(visitors)\n",
    "        self.avgs = np.hstack((np.asarray(self.avgs), np.asarray(self.number_of_visitors)))\n",
    "        if len(self.avgs) > 50:\n",
    "            self.avgs = self.avgs[:-50]\n",
    "        self.av_ppl = np.average(np.asarray(self.avgs))\n",
    "        self.popularity = pop(self.av_ppl)\n",
    "        self.econ_status = e_stat(self.popularity)\n",
    "        \n",
    "        neighbours = self.model.grid.get_neighbors(self.pos, moore=True, include_center=True, radius=1)\n",
    "        neighbours = [n for n in neighbours if isinstance(n, Commercial)]\n",
    "        neighbourh = [n for n in neighbours if isinstance(n, Residential)]\n",
    "        a = [obj.econ_status for obj in neighbours]\n",
    "        b = [obj.property_value for obj in neighbourh]\n",
    "        all_p_vals = np.hstack((np.asarray(a), np.asarray(b)))\n",
    "        if len(all_p_vals) != 0:\n",
    "            m = np.median(all_p_vals)\n",
    "            choice = np.random.choice([0,1])\n",
    "            if choice == 0:\n",
    "                if np.int(np.ceil(m)) > self.econ_status:\n",
    "                    self.econ_status = np.int(np.ceil(m))   \n",
    "    def step(self):\n",
    "        #print('here in bus')\n",
    "        self.count_visits()"
   ]
  },
  {
   "cell_type": "markdown",
   "metadata": {},
   "source": [
    "## The Residential Agent\n",
    "each residence has the following properties:\n",
    "\n",
    "property_value := Low, Medium, or High, represented as 0, 1, 2, respectively.\n",
    "\n",
    "vacancy := True or False boolean reflecting ownership"
   ]
  },
  {
   "cell_type": "code",
   "execution_count": 9,
   "metadata": {},
   "outputs": [],
   "source": [
    "class Residential(Agent):\n",
    "    \"\"\" A residence with property value and vacancy status\"\"\"\n",
    "    def __init__(self, unique_id, model):\n",
    "        super().__init__(unique_id, model)\n",
    "        self.property_value = np.random.choice([0,1,2], p = [0.8, 0.15, 0.05]) #JUST AN INITIALIZATION. WILL NEED TO FIX FOR INITIAL CONDITIONS\n",
    "        self.vacancy = True\n",
    "        #self.vacancies = np.array([0])\n",
    "\n",
    "    def step(self):\n",
    "        #print('here in res')\n",
    "        neighbours = self.model.grid.get_neighbors(self.pos, moore=True, include_center=False, radius=1)\n",
    "        neighbours = [n for n in neighbours if isinstance(n, Residential)]\n",
    "        a = [obj.property_value for obj in neighbours]\n",
    "        neighboursc = [n for n in neighbours if isinstance(n, Commercial)]\n",
    "        b = [obj.property_value for obj in neighboursc]\n",
    "        all_p_vals = np.hstack((np.asarray(a), np.asarray(b)))\n",
    "        if len(all_p_vals) != 0:\n",
    "            m = np.median(all_p_vals)\n",
    "            choice = np.random.choice([0,1])\n",
    "            if choice == 0:\n",
    "                if np.int(np.ceil(m)) > self.property_value:\n",
    "                    self.property_value = np.int(np.ceil(m))\n",
    "        #if np.asarray(self.vacancies[:-20]).any() == np.zeros(len(self.vacancies[:-20])).any():\n",
    "        #    if self.property_value > 0:\n",
    "        #        self.property_value = self.property_value-1 \n",
    "        #print('property_value:',self.property_value,'vacant:', self.vacancy)"
   ]
  },
  {
   "cell_type": "markdown",
   "metadata": {},
   "source": [
    "## The Street Agent\n",
    "A square of street that out-of-towners can visit to window shop and consider buying a residence or visiting a shop\n",
    "\n",
    "number_of_visitors := number of people on that square of street"
   ]
  },
  {
   "cell_type": "code",
   "execution_count": 10,
   "metadata": {},
   "outputs": [],
   "source": [
    "class Street(Agent):\n",
    "    \"\"\" a square of street for window shoppers \"\"\"\n",
    "    def __init__(self, unique_id, model):\n",
    "        super().__init__(unique_id, model)\n",
    "        self.number_of_visitors = 0\n",
    "        \n",
    "    def count_visits(self):\n",
    "        same_space = self.model.grid.get_cell_list_contents([self.pos])\n",
    "        visitors = [obj for obj in same_space if isinstance(obj, Person)]\n",
    "        self.number_of_visitors = len(visitors)\n",
    "    \n",
    "    def step(self):\n",
    "        #print('here in street')\n",
    "        self.count_visits()"
   ]
  },
  {
   "cell_type": "markdown",
   "metadata": {},
   "source": [
    "## Helper functions for data collection"
   ]
  },
  {
   "cell_type": "code",
   "execution_count": 11,
   "metadata": {},
   "outputs": [],
   "source": [
    "def people_on_street(model):\n",
    "    street_visits = [agent.number_of_visitors for agent in model.schedule.agents if isinstance(agent, Street)]\n",
    "    return sum(street_visits)\n",
    "def people_in_neighbourhood(model):\n",
    "    people = [agent for agent in model.schedule.agents if isinstance(agent, Person) and agent.in_neighbourhood]\n",
    "    return len(people)\n",
    "def med_property_value(model):\n",
    "    prop_vals = [prop.property_value for prop in model.schedule.agents if isinstance(prop, Residential)]\n",
    "    return np.median(prop_vals)\n",
    "def med_econ_status_res(model):\n",
    "    econ_stats = [agent.econ_status for agent in model.schedule.agents if isinstance(agent, Person) and agent.resident_status]\n",
    "    return np.median(econ_stats)\n",
    "def med_econ_status_visitors(model):\n",
    "    econ_stats = [agent.econ_status for agent in model.schedule.agents if isinstance(agent, Person) and not agent.resident_status and agent.in_neighbourhood]\n",
    "    return np.median(econ_stats)\n",
    "def yelpers(model):\n",
    "    yelpers = [agent for agent in model.schedule.agents if isinstance(agent, Person) and agent.yelped]\n",
    "    for agent in yelpers:\n",
    "        agent.yelped = False\n",
    "    return len(yelpers)\n",
    "def med_visits(model):\n",
    "    bus_visits = [bus.number_of_visitors for bus in model.schedule.agents if isinstance(bus, Commercial)]\n",
    "    return np.median(bus_visits)\n",
    "def med_pop(model):\n",
    "    bus_pop = [bus.popularity for bus in model.schedule.agents if isinstance(bus, Commercial)]\n",
    "    return np.median(bus_pop)\n",
    "def vacant_high(model):\n",
    "    r = [p for p in model.schedule.agents if isinstance(p, Residential) and p.vacancy and p.property_value==2]\n",
    "    return len(r)\n",
    "    \n"
   ]
  },
  {
   "cell_type": "markdown",
   "metadata": {},
   "source": [
    "## The neighbourhood\n",
    "\n",
    "NOTE: for some reason, the residences become businesses... why?\n"
   ]
  },
  {
   "cell_type": "code",
   "execution_count": 12,
   "metadata": {},
   "outputs": [],
   "source": [
    "class Gentrified_Neighbourhood(Model):\n",
    "    def __init__(self, N, I, J, R, C, S, width, height):\n",
    "        self.running = True\n",
    "        \n",
    "        self.num_people = N\n",
    "        # N = I + J\n",
    "        self.num_in_neighbourhood = I\n",
    "        self.num_out_neighbourhood = J\n",
    "        \n",
    "        self.num_res = R\n",
    "        self.num_com = C\n",
    "        self.num_street = S\n",
    "        \n",
    "        \n",
    "        self.schedule = RandomActivation(self)\n",
    "        self.grid = MultiGrid(width, height, True)\n",
    "        # Create agents\n",
    "        available = []\n",
    "        indices = []\n",
    "        count = 0\n",
    "        \n",
    "        for i in range(height):\n",
    "            for j in range(width-1):\n",
    "                available.append((i,j))\n",
    "                indices.append(count)\n",
    "                count += 1\n",
    "                \n",
    "        #print('len available:', len(available), 'len indicies:', len(indices))        \n",
    "        occupied = []\n",
    "        res = []\n",
    "        res_ind = []\n",
    "        count = 0\n",
    "        sched = 0\n",
    "        for i in range(self.num_res): #place residences randomly\n",
    "            a = Residential(sched, self)\n",
    "            placed = False\n",
    "            while not placed:\n",
    "                position = np.random.choice(indices)\n",
    "                indices.remove(position)\n",
    "                position = available[position]\n",
    "                #if (x,y) is valid and it doesn't already have a house on it, add a house\n",
    "                if position not in occupied:\n",
    "                    self.grid.place_agent(a, position)\n",
    "                    self.schedule.add(a)\n",
    "                    occupied.append(position)\n",
    "                    res.append(position)\n",
    "                    res_ind.append(count)\n",
    "                    count += 1\n",
    "                    placed = True\n",
    "                    sched += 1\n",
    "                    \n",
    "                else: \n",
    "                    print('something wrong 1')\n",
    "                \n",
    "        for i in range(self.num_com): #place commercial randomly\n",
    "            a = Commercial(sched, self)\n",
    "            placed = False\n",
    "            while not placed:\n",
    "                position = np.random.choice(indices)\n",
    "                indices.remove(position)\n",
    "                position = available[position]\n",
    "                #if (x,y) is valid and it doesn't already have a property on it, add a business\n",
    "                if position not in occupied:\n",
    "                    self.grid.place_agent(a, position)\n",
    "                    self.schedule.add(a)\n",
    "                    occupied.append(position)\n",
    "                    placed = True\n",
    "                    sched += 1\n",
    "                \n",
    "        for i in range(self.num_street):\n",
    "            a = Street(sched, self)\n",
    "            placed = False\n",
    "            while not placed:\n",
    "                position = np.random.choice(indices)\n",
    "                indices.remove(position)\n",
    "                position = available[position]\n",
    "                #if (x,y) is valid and it doesn't already have a property on it, add a business\n",
    "                if position not in occupied:\n",
    "                    self.grid.place_agent(a, position)\n",
    "                    self.schedule.add(a)\n",
    "                    occupied.append(position)\n",
    "                    placed = True\n",
    "                    sched += 1\n",
    "        \n",
    "        homes = []\n",
    "        \n",
    "        for i in range(self.num_in_neighbourhood):\n",
    "            a = Person(sched, self, True)\n",
    "            placed = False\n",
    "            while not placed:\n",
    "                position = np.random.choice(res_ind)\n",
    "                res_ind.remove(position)\n",
    "                position  = res[position]\n",
    "                if position not in homes:\n",
    "                    self.grid.place_agent(a, position)\n",
    "                    self.schedule.add(a)\n",
    "                    a.Home = position\n",
    "                    a.resident_status = True\n",
    "                    a.in_neighbourhood = True\n",
    "                    homes.append(position)\n",
    "                    a.home = position\n",
    "                    Res = self.grid.get_cell_list_contents(position)\n",
    "                    home = [obj for obj in Res if isinstance(obj, Residential)]\n",
    "                    home = home[0]\n",
    "                    home.vacancy = False\n",
    "                    a.econ_status = home.property_value\n",
    "                    placed = True\n",
    "                    sched += 1\n",
    "                \n",
    "        for i in range(self.num_out_neighbourhood):\n",
    "            a = Person(sched, self, False)\n",
    "            placed = False\n",
    "            while not placed:\n",
    "                y = random.randrange(self.grid.height)\n",
    "                if y != self.grid.height:\n",
    "                    self.grid.place_agent(a, (y, self.grid.width-1))\n",
    "                    self.schedule.add(a)\n",
    "                    a.resident_status = False\n",
    "                    a.in_neighbourhood = False\n",
    "                    placed = True\n",
    "                    sched += 1\n",
    "        \n",
    "        self.datacollector = DataCollector(\n",
    "            model_reporters={\"Median popularity of businesses\": med_pop, \"Number of people sharing\": yelpers, \"Vacant homes with high property value\": vacant_high, \"People on the Street\": people_on_street, \"People in the Neighbourhood\": people_in_neighbourhood, \"Median Property Value\": med_property_value, \"Median Economic Status of Residents\": med_econ_status_res, \"Median Economic Status of Visitors\": med_econ_status_visitors, \"Median number of visitors to businesses\": med_visits} ) \n",
    "        #self.datacollector = DataCollector(\n",
    "         #   model_reporters={\"Median popularity of businesses\": med_pop, \"Vacant homes with high property value\": vacant_high, \"People on the Street\": people_on_street, \"People in the Neighbourhood\": people_in_neighbourhood, \"Median Property Value\": med_property_value, \"Median Economic Status of Residents\": med_econ_status_res, \"Median Economic Status of Visitors\": med_econ_status_visitors, \"Median number of visitors to businesses\": med_visits} ) \n",
    "\n",
    "\n",
    "    def step(self):\n",
    "        #print('here in model')\n",
    "        self.datacollector.collect(self)\n",
    "        self.schedule.step()\n",
    "        "
   ]
  },
  {
   "cell_type": "markdown",
   "metadata": {},
   "source": [
    "## Portrayal of neighbourhood\n",
    "Agents are light green, medium green, and dark green grid squares for low, medium, and high economic status, respectively. Commercial businesses are light red, medium red, and dark red grid squares for low, medium, and high economic status, respectively.\n",
    "Residences are light purple, medium purple, and dark purple, for low, medium, and high property value, respectively.\n",
    "Streets are cyan."
   ]
  },
  {
   "cell_type": "code",
   "execution_count": 13,
   "metadata": {},
   "outputs": [],
   "source": [
    "def agent_portrayal(agent):\n",
    "    if agent is None:\n",
    "        return\n",
    "    \n",
    "    portrayal = {\"Shape\": \"circle\",\n",
    "                 \"Filled\": \"true\",\n",
    "                 \"r\": 0.5}\n",
    "\n",
    "    if type(agent) is Person:\n",
    "        portrayal[\"Layer\"] = 1\n",
    "        portrayal[\"r\"] = 0.4\n",
    "        #if agent.yelped:\n",
    "         #   portrayal[\"Color\"] = \"black\"\n",
    "        if agent.econ_status == 0:\n",
    "            portrayal[\"Color\"] = \"#A9F5A9\"\n",
    "        elif agent.econ_status == 1:\n",
    "            portrayal[\"Color\"] = \"#01DF01\"\n",
    "        elif agent.econ_status == 2:\n",
    "            portrayal[\"Color\"] = \"#088A08\"\n",
    "        else:\n",
    "            portrayal[\"Shape\"] = \"rect\"\n",
    "            portrayal[\"Color\"] = \"black\"\n",
    "            \n",
    "    elif type(agent) is Residential:\n",
    "        portrayal[\"Shape\"] = \"rect\"\n",
    "        portrayal[\"Layer\"] = 0\n",
    "        portrayal[\"w\"] = 1\n",
    "        portrayal[\"h\"] = 1\n",
    "        if agent.vacancy:\n",
    "            portrayal[\"Color\"] = \"white\"\n",
    "        elif agent.property_value == 0:\n",
    "            portrayal[\"Color\"] = \"#E3CEF6\"\n",
    "        elif agent.property_value == 1:\n",
    "            portrayal[\"Color\"] = \"#BE81F7\"\n",
    "        elif agent.property_value == 2:\n",
    "            portrayal[\"Color\"] = \"#7401DF\"\n",
    "        else:\n",
    "            portrayal[\"Shape\"] = \"circle\"\n",
    "            portrayal[\"Color\"] = \"#7401DF\"\n",
    "            portrayal[\"r\"] = 0.7\n",
    "            \n",
    "    elif type(agent) is Commercial:\n",
    "        portrayal[\"Shape\"] = \"rect\"\n",
    "        portrayal[\"Layer\"] = 0\n",
    "        portrayal[\"w\"] = 1\n",
    "        portrayal[\"h\"] = 1\n",
    "        if agent.econ_status == 0:\n",
    "            portrayal[\"Color\"] = \"#F6CECE\"\n",
    "        elif agent.econ_status == 1:\n",
    "            portrayal[\"Color\"] = \"#F78181\"\n",
    "        elif agent.econ_status == 2:\n",
    "            portrayal[\"Color\"] = \"#DF0101\"\n",
    "        else:\n",
    "            portrayal[\"Shape\"] = \"circle\"\n",
    "            portrayal[\"Color\"] = \"#DF0101\"\n",
    "            portrayal[\"r\"] = 0.7\n",
    "            \n",
    "    elif type(agent) is Street:\n",
    "        portrayal[\"Color\"] = \"grey\"\n",
    "        portrayal[\"Shape\"] = \"rect\"\n",
    "        portrayal[\"Layer\"] = 0\n",
    "        portrayal[\"w\"] = 1\n",
    "        portrayal[\"h\"] = 1\n",
    "        \n",
    "    return portrayal\n"
   ]
  },
  {
   "cell_type": "markdown",
   "metadata": {},
   "source": [
    "## SET UP\n",
    "Ignore this too!"
   ]
  },
  {
   "cell_type": "code",
   "execution_count": 14,
   "metadata": {},
   "outputs": [
    {
     "name": "stdout",
     "output_type": "stream",
     "text": [
      "0\n",
      "1\n",
      "2\n",
      "3\n",
      "4\n"
     ]
    },
    {
     "name": "stderr",
     "output_type": "stream",
     "text": [
      "/anaconda3/lib/python3.7/site-packages/numpy/core/fromnumeric.py:3118: RuntimeWarning: Mean of empty slice.\n",
      "  out=out, **kwargs)\n",
      "/anaconda3/lib/python3.7/site-packages/numpy/core/_methods.py:85: RuntimeWarning: invalid value encountered in double_scalars\n",
      "  ret = ret.dtype.type(ret / rcount)\n"
     ]
    }
   ],
   "source": [
    "model = Gentrified_Neighbourhood(20, 20, 20, 20, 8, 2, 6, 6)\n",
    "for i in range(5):\n",
    "    print(i)\n",
    "    model.step()\n",
    "    "
   ]
  },
  {
   "cell_type": "code",
   "execution_count": 15,
   "metadata": {},
   "outputs": [],
   "source": [
    "i=2"
   ]
  },
  {
   "cell_type": "code",
   "execution_count": 16,
   "metadata": {},
   "outputs": [
    {
     "name": "stdout",
     "output_type": "stream",
     "text": [
      "Interface starting at http://127.0.0.1:8634\n"
     ]
    }
   ],
   "source": [
    "\n",
    "grid = CanvasGrid(agent_portrayal, 20, 20, 500, 500)\n",
    "\n",
    "chart2 = ChartModule([{\"Label\": \"Vacant homes with high property value\",\n",
    "                      \"Color\": \"Black\"}], data_collector_name='datacollector')\n",
    "\n",
    "# chart = ChartModule([{\"Label\": \"Median Property Value\",\n",
    "#                       \"Color\": \"Black\"}, {\"Label\": \"Median Economic Status of Residents\",\n",
    "#                       \"Color\": \"Red\"},{\"Label\": \"Median Economic Status of Visitors\",\n",
    "#                       \"Color\": \"Blue\"}],\n",
    "#                     data_collector_name='datacollector')\n",
    "\n",
    "# chart3 = ChartModule([{\"Label\": \"Median popularity of businesses\",\n",
    "#                       \"Color\": \"Black\"}],\n",
    "#                     data_collector_name='datacollector')\n",
    "\n",
    "# chart4 = ChartModule([{\"Label\": \"Number of people sharing\",\n",
    "#                       \"Color\": \"Black\"}],\n",
    "#                     data_collector_name='datacollector')\n",
    "\n",
    "\n",
    "# chart5 = ChartModule([{\"Label\": \"Median number of visitors to businesses\",\n",
    "#                       \"Color\": \"Black\"}],\n",
    "#                     data_collector_name='datacollector')\n",
    "\n",
    "\n",
    "\n",
    "n_slider = UserSettableParameter('slider', \"Number of Initial Residents\", 250, 100, 360, 10)\n",
    "p_slider = UserSettableParameter('slider', \"Number of People Outside the Neighbourhood\", 100, 10, 700, 10)\n",
    "h_slider = UserSettableParameter('slider', \"Number of Homes\", 260, 100, 360, 10)\n",
    "c_slider = UserSettableParameter('slider', \"Number of Businesses\", 70, 20, 360, 10)\n",
    "\n",
    "\n",
    "server = ModularServer(Gentrified_Neighbourhood,\n",
    "                       [grid, chart2], #, chart2, chart3, chart4, chart5],\n",
    "                       \"Gentrified Neighbourhood\",\n",
    "                       {\"N\": 120, \"I\": n_slider, \"J\": p_slider, \"R\":h_slider, \"C\":c_slider, \"S\":10, \"width\": 20, \"height\": 20})\n",
    "\n",
    "server.port = 8632+i\n",
    "i=i+1\n",
    "server.launch()"
   ]
  },
  {
   "cell_type": "code",
   "execution_count": null,
   "metadata": {},
   "outputs": [],
   "source": []
  },
  {
   "cell_type": "code",
   "execution_count": 17,
   "metadata": {},
   "outputs": [
    {
     "data": {
      "text/plain": [
       "array([2, 3, 4])"
      ]
     },
     "execution_count": 17,
     "metadata": {},
     "output_type": "execute_result"
    }
   ],
   "source": [
    "np.asarray([2,3,4])"
   ]
  },
  {
   "cell_type": "code",
   "execution_count": 18,
   "metadata": {},
   "outputs": [
    {
     "data": {
      "text/plain": [
       "0"
      ]
     },
     "execution_count": 18,
     "metadata": {},
     "output_type": "execute_result"
    }
   ],
   "source": [
    "li = []\n",
    "len(li)"
   ]
  },
  {
   "cell_type": "code",
   "execution_count": 19,
   "metadata": {},
   "outputs": [
    {
     "data": {
      "text/plain": [
       "0.466705219051133"
      ]
     },
     "execution_count": 19,
     "metadata": {},
     "output_type": "execute_result"
    }
   ],
   "source": [
    "np.random.normal(0.5,0.15)"
   ]
  },
  {
   "cell_type": "code",
   "execution_count": 20,
   "metadata": {},
   "outputs": [
    {
     "data": {
      "text/plain": [
       "array([1, 2, 3, 4, 5, 6, 7, 8, 2])"
      ]
     },
     "execution_count": 20,
     "metadata": {},
     "output_type": "execute_result"
    }
   ],
   "source": [
    "a = np.array([1,2,3,4,5,6,7,8])\n",
    "b = np.array([2])\n",
    "c = np.hstack((a,b))\n",
    "c"
   ]
  },
  {
   "cell_type": "code",
   "execution_count": 21,
   "metadata": {},
   "outputs": [
    {
     "name": "stdout",
     "output_type": "stream",
     "text": [
      "Socket opened!\n",
      "{\"type\":\"get_params\"}\n",
      "{\"type\":\"reset\"}\n",
      "{\"type\":\"get_step\",\"step\":1}\n"
     ]
    },
    {
     "name": "stderr",
     "output_type": "stream",
     "text": [
      "/anaconda3/lib/python3.7/site-packages/numpy/core/fromnumeric.py:3118: RuntimeWarning: Mean of empty slice.\n",
      "  out=out, **kwargs)\n",
      "/anaconda3/lib/python3.7/site-packages/numpy/core/_methods.py:85: RuntimeWarning: invalid value encountered in double_scalars\n",
      "  ret = ret.dtype.type(ret / rcount)\n"
     ]
    },
    {
     "name": "stdout",
     "output_type": "stream",
     "text": [
      "{\"type\":\"get_step\",\"step\":2}\n",
      "{\"type\":\"get_step\",\"step\":3}\n",
      "{\"type\":\"get_step\",\"step\":4}\n",
      "{\"type\":\"get_step\",\"step\":5}\n",
      "{\"type\":\"get_step\",\"step\":6}\n",
      "{\"type\":\"get_step\",\"step\":7}\n",
      "{\"type\":\"get_step\",\"step\":8}\n",
      "{\"type\":\"get_step\",\"step\":9}\n",
      "{\"type\":\"get_step\",\"step\":10}\n",
      "{\"type\":\"get_step\",\"step\":11}\n",
      "{\"type\":\"get_step\",\"step\":12}\n",
      "{\"type\":\"get_step\",\"step\":13}\n",
      "{\"type\":\"get_step\",\"step\":14}\n",
      "{\"type\":\"get_step\",\"step\":15}\n",
      "{\"type\":\"get_step\",\"step\":16}\n",
      "{\"type\":\"get_step\",\"step\":17}\n",
      "{\"type\":\"get_step\",\"step\":18}\n",
      "{\"type\":\"get_step\",\"step\":19}\n",
      "{\"type\":\"get_step\",\"step\":20}\n",
      "{\"type\":\"get_step\",\"step\":21}\n",
      "{\"type\":\"get_step\",\"step\":22}\n",
      "{\"type\":\"get_step\",\"step\":23}\n",
      "{\"type\":\"get_step\",\"step\":24}\n",
      "{\"type\":\"get_step\",\"step\":25}\n",
      "{\"type\":\"get_step\",\"step\":26}\n",
      "{\"type\":\"get_step\",\"step\":27}\n",
      "{\"type\":\"get_step\",\"step\":28}\n",
      "{\"type\":\"get_step\",\"step\":29}\n",
      "{\"type\":\"get_step\",\"step\":30}\n",
      "{\"type\":\"get_step\",\"step\":31}\n",
      "{\"type\":\"get_step\",\"step\":32}\n",
      "{\"type\":\"get_step\",\"step\":33}\n",
      "{\"type\":\"get_step\",\"step\":34}\n"
     ]
    }
   ],
   "source": [
    "a = np.zeros(30)\n",
    "b = np. zeros(30)\n",
    "b[-1]=1"
   ]
  }
 ],
 "metadata": {
  "kernelspec": {
   "display_name": "Python 3",
   "language": "python",
   "name": "python3"
  },
  "language_info": {
   "codemirror_mode": {
    "name": "ipython",
    "version": 3
   },
   "file_extension": ".py",
   "mimetype": "text/x-python",
   "name": "python",
   "nbconvert_exporter": "python",
   "pygments_lexer": "ipython3",
   "version": "3.7.3"
  }
 },
 "nbformat": 4,
 "nbformat_minor": 2
}
